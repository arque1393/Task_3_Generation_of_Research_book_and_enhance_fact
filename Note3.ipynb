{
 "cells": [
  {
   "cell_type": "markdown",
   "metadata": {},
   "source": [
    "####  Model :\n",
    "    - google/pegasus-multi_news \n",
    "        - fact Generation and New submission \n",
    "    - FarReelAILab/ChatLaw-13B\n",
    "    - google/flan-t5-large\n",
    "    - MBZUAI/LaMini-Flan-T5-783M\n"
   ]
  },
  {
   "cell_type": "code",
   "execution_count": null,
   "metadata": {},
   "outputs": [],
   "source": []
  }
 ],
 "metadata": {
  "kernelspec": {
   "display_name": "task3",
   "language": "python",
   "name": "python3"
  },
  "language_info": {
   "name": "python",
   "version": "3.11.7"
  }
 },
 "nbformat": 4,
 "nbformat_minor": 2
}
